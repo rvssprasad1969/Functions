{
 "cells": [
  {
   "cell_type": "code",
   "execution_count": 2,
   "id": "9d740729-5bf2-43a6-952a-116ce4720abc",
   "metadata": {},
   "outputs": [
    {
     "data": {
      "text/plain": [
       "'11.\\t11. Using pen & Paper write the internal mechanism for sum operation using reduce function on this given list:[47,11,42,13]; \\n'"
      ]
     },
     "execution_count": 2,
     "metadata": {},
     "output_type": "execute_result"
    }
   ],
   "source": [
    "\"\"\"\n",
    "1.\tWhat is the difference between a function and a method in Python?\n",
    "Ans:- Functions are independent blocks of code that can be called from anywhere, while methods are tied to objects or classes and need an object or class instance to be invoked.\n",
    "\n",
    "2.\tExplain the concept of function arguments and parameters in Python\n",
    "Ans: A parameter is the variable listed inside the parentheses in the function definition. An argument is the value that are sent to the function when it is called.\n",
    "\n",
    "3.\tWhat are the different ways to define and call a function in Python?\n",
    "Ans. To define a function , the def Keyword followed by the name of the function and parentheses(). If the function takes any arguments, they are included with in the parentheses. \n",
    "\tEg. \n",
    "\t\tdef hello(name):\n",
    "\t\t\tprint(“ Hello”  + name )\n",
    "       once the function is defined, it can be called simply type the name of the function followed by parentheses(). If there are argument, they will be given inside the parentheses.\n",
    "\n",
    "4.\tWhat is the purpose of the return statement in python function?\n",
    "Ans.  The return statement marks the end of the function and specifies the value or values to pass back from the function.\n",
    "5. What are the iterators in python and how do they differ from iterables?\n",
    "Ans. An iterable is an object that any user can iterate over. An iterator is also an object that helps a user in iterating over another object.\n",
    " Iterable are the sequence type object that support __iter__ method. Iterator: Iterator are the object which call next method and transverse through the sequence.\n",
    "\n",
    "6.\tExplain the concept of generators in Python and how they are defined\n",
    "Ans. A generator function in Python is defined like a normal function, but whenever it needs to generate a value, it does so with the yield keyword rather than return. If the body of a def contains yield, the function automatically becomes a Python generator function\n",
    " def function_name():\n",
    "    yield statement\n",
    "\n",
    "7.\tWhat are the advantages of using generators over regular functions?\n",
    "Ans:-  Generators have several advantages over regular functions, ie Memory efficiency , readability , speed . Generator function uses keyword “yield” to maintain the state of the function. When the function is called again, execution continues from where it left off.\n",
    "\n",
    "8.\tWhat is a lambda function in Python and when is it typically used\n",
    "Ans:- Lambda Function, also referred to as ‘Anonymous function’ is same as a regular python function but can be defined without a name. While normal functions are defined using the def keyword, anonymous functions are defined using the lambda keyword. However, they are restricted to single line of expression. They can take in multiple parameters as in regular functions.\n",
    "Lambda functions are particularly useful in scenarios where we need a simple function for a short period of time and in reducing the amount of code.\n",
    "\n",
    "9.\tExplain the purpose and usage of the `map()` function in Python\n",
    "Ans. The map function in Python is a powerful tool that allows to apply a function to every item in an iterable, such as a list or tuple, and returns a map object. This object can then be easily converted into a list or other iterable types.\n",
    "\n",
    "10.\tWhat is the difference between `map()`, `reduce()`, and `filter()` functions in Python?\n",
    "Ans:- 'Map' applies a given function to each item of an iterable (like a list or set) and returns a list of the results. 'Filter' constructs a list from elements of an iterable for which a function returns true. 'Reduce' applies a rolling computation to sequential pairs of values in a list and returns a single result.\n",
    "\n",
    "\"\"\"\n",
    "\"\"\"11.\t11. Using pen & Paper write the internal mechanism for sum operation using reduce function on this given list:[47,11,42,13]; \n",
    "\"\"\""
   ]
  },
  {
   "cell_type": "code",
   "execution_count": 5,
   "id": "16251fa9-7138-4dcc-aeed-2986269d23de",
   "metadata": {},
   "outputs": [
    {
     "name": "stdout",
     "output_type": "stream",
     "text": [
      "113\n"
     ]
    }
   ],
   "source": [
    "import functools\n",
    "lis=[47,11,42,13]\n",
    "print(functools.reduce(lambda a,b:a+b,lis))"
   ]
  },
  {
   "cell_type": "code",
   "execution_count": 6,
   "id": "5b0a7a31-b1c1-4ab7-b3f7-ab734c2b84a3",
   "metadata": {},
   "outputs": [
    {
     "data": {
      "text/plain": [
       "'\\nPractical Questions\\n'"
      ]
     },
     "execution_count": 6,
     "metadata": {},
     "output_type": "execute_result"
    }
   ],
   "source": [
    "\"\"\"\n",
    "Practical Questions\n",
    "\"\"\""
   ]
  },
  {
   "cell_type": "code",
   "execution_count": 7,
   "id": "47f63321-501b-41f3-9ce0-7dbe618bad9a",
   "metadata": {},
   "outputs": [
    {
     "data": {
      "text/plain": [
       "'\\n1. Write a Python function that takes a list of numbers as input and returns the sum of all even numbers in the list.\\n'"
      ]
     },
     "execution_count": 7,
     "metadata": {},
     "output_type": "execute_result"
    }
   ],
   "source": [
    "\"\"\"\n",
    "1. Write a Python function that takes a list of numbers as input and returns the sum of all even numbers in the list.\n",
    "\"\"\""
   ]
  },
  {
   "cell_type": "code",
   "execution_count": 11,
   "id": "8fcd2a9c-ba5c-4554-9794-e600ee5f7d36",
   "metadata": {},
   "outputs": [
    {
     "data": {
      "text/plain": [
       "30"
      ]
     },
     "execution_count": 11,
     "metadata": {},
     "output_type": "execute_result"
    }
   ],
   "source": [
    "def func(lis):\n",
    "    sum=0\n",
    "    for i in lis:\n",
    "        if i%2==0:\n",
    "            sum=sum+i\n",
    "    return sum\n",
    "func([1,2,3,4,6,7,8,10])\n"
   ]
  },
  {
   "cell_type": "code",
   "execution_count": 2,
   "id": "e720b87e-e45c-4dd9-bad9-50d8cd5cd020",
   "metadata": {},
   "outputs": [
    {
     "name": "stdout",
     "output_type": "stream",
     "text": [
      "esrever gnirts\n"
     ]
    }
   ],
   "source": [
    "\"\"\"\n",
    "2. Creaet a python function that accepts a string and returns the reverse of that string.\n",
    "\"\"\"\n",
    "def reverse(x):\n",
    "    return x[::-1]\n",
    "mytxt = reverse(\"string reverse\")\n",
    "print(mytxt)\n"
   ]
  },
  {
   "cell_type": "code",
   "execution_count": 24,
   "id": "6caf322b-9651-4200-9f4d-3e6cca875ab4",
   "metadata": {},
   "outputs": [
    {
     "data": {
      "text/plain": [
       "[4, 16, 25]"
      ]
     },
     "execution_count": 24,
     "metadata": {},
     "output_type": "execute_result"
    }
   ],
   "source": [
    "\"\"\"\n",
    "3.Implement a Python function that takes a list of integers and returns a new list containing the squares of each number.\n",
    "\n",
    "\"\"\"\n",
    "def square(list):\n",
    "    ret = []\n",
    "    for i in list:\n",
    "        ret.append(i ** 2)\n",
    "    return ret\n",
    "square([2,4,5])"
   ]
  },
  {
   "cell_type": "code",
   "execution_count": 41,
   "id": "58233209-22a6-4318-a606-659277d5782d",
   "metadata": {},
   "outputs": [
    {
     "name": "stdout",
     "output_type": "stream",
     "text": [
      "10 is not a prime number\n"
     ]
    }
   ],
   "source": [
    "\"\"\"\n",
    "4. Write a python function that checks if a given number is primer or not from 1 to 200\n",
    "\"\"\"\n",
    "def prim(num):\n",
    "    if num <1 or num >200 :\n",
    "        print(\"Please enter number range between 1 to 200\")\n",
    "    else:\n",
    "        if num >1:\n",
    "            for i in range(2, (num//2)+1):\n",
    "                # If num is divisible by any number between\n",
    "                # 2 and n / 2, it is not prime\n",
    "                if (num % i) == 0:\n",
    "                    print(num, \"is not a prime number\")\n",
    "                    break\n",
    "                else:\n",
    "                    print(num, \"is a prime number\")\n",
    "        else:\n",
    "            print(num, \"is not a prime number\")\n",
    "prim(10)"
   ]
  },
  {
   "cell_type": "code",
   "execution_count": 47,
   "id": "f731090b-89a0-4102-8bfd-c5d4c27eb556",
   "metadata": {},
   "outputs": [
    {
     "name": "stdin",
     "output_type": "stream",
     "text": [
      "Enter the number : 10\n"
     ]
    },
    {
     "name": "stdout",
     "output_type": "stream",
     "text": [
      "Fibonacci Series:  0 1 1 2 3 5 8 13 21 34\n"
     ]
    }
   ],
   "source": [
    "\"\"\"\n",
    "5. Create an iterator class in python that generate the fibonacci sequence up to a specifie dnumber of terms\n",
    "\"\"\"\n",
    "def fibonacci(n):\n",
    "    l = [0,1] \n",
    "    for i in range(2,n):\n",
    "        l.append(l[-1]+l[-2])\n",
    "    return l\n",
    "if __name__ == \"__main__\":\n",
    "    n = int(input(\"Enter the number :\"))\n",
    "    fibo = fibonacci(n)\n",
    "    print(\"Fibonacci Series: \",*fibo)"
   ]
  },
  {
   "cell_type": "code",
   "execution_count": 54,
   "id": "37015527-52e9-4c00-9f8e-d1303cb5e933",
   "metadata": {},
   "outputs": [
    {
     "name": "stdin",
     "output_type": "stream",
     "text": [
      "Input the exponent:  5\n"
     ]
    },
    {
     "name": "stdout",
     "output_type": "stream",
     "text": [
      "Powers of 2 up to exponent 5:\n",
      "1\n",
      "2\n",
      "4\n",
      "8\n",
      "16\n",
      "32\n"
     ]
    }
   ],
   "source": [
    "\"\"\"\n",
    "6. Write a generator function in python that yields the powers of 2 up to a given exponent\n",
    "\"\"\"\n",
    "def power_generator(exponent):\n",
    "    base =2\n",
    "    result = 1\n",
    "    for i in range(exponent + 1):\n",
    "        yield result\n",
    "        result *=base\n",
    "exponent = int(input(\"Input the exponent: \"))\n",
    "power_gen = power_generator(exponent)\n",
    "print(f\"Powers of {base} up to exponent {exponent}:\")\n",
    "for power in power_gen:\n",
    "    print(power)"
   ]
  },
  {
   "cell_type": "code",
   "execution_count": 61,
   "id": "37fe5625-a98b-4349-840b-919337092b93",
   "metadata": {},
   "outputs": [
    {
     "name": "stdout",
     "output_type": "stream",
     "text": [
      "The original tuples: [(2, 88), (400, 90), (25, 97)]\n",
      "\n",
      "Sorting the List of Tuples using 2nd element:\n",
      "\n",
      "[(2, 88), (400, 90), (25, 97)]\n"
     ]
    }
   ],
   "source": [
    "\"\"\"8. Use a lambda funciton in python to sort a list of tuples based on the secon element of each tuple\n",
    "\"\"\"\n",
    "tpls = [(2, 88), (400, 90), (25, 97)]\n",
    "print(\"The original tuples:\",tpls)\n",
    "\n",
    "tpls.sort(key=lambda x: x[1])\n",
    "\n",
    "print(\"\\nSorting the List of Tuples using 2nd element:\\n\")\n",
    "print(tpls) "
   ]
  },
  {
   "cell_type": "code",
   "execution_count": 62,
   "id": "f317d13b-b515-4986-ae5b-8834afdff9d8",
   "metadata": {},
   "outputs": [
    {
     "name": "stdout",
     "output_type": "stream",
     "text": [
      "\f",
      "\n"
     ]
    }
   ],
   "source": [
    "clear()"
   ]
  },
  {
   "cell_type": "code",
   "execution_count": 66,
   "id": "5f1fe316-aed7-40d6-8a54-c6475141b713",
   "metadata": {},
   "outputs": [
    {
     "name": "stdin",
     "output_type": "stream",
     "text": [
      "Enter temperature in list format : [37.4,37.9,60,4]\n"
     ]
    },
    {
     "name": "stdout",
     "output_type": "stream",
     "text": [
      " Temp[erature is converted to Farhenheit is : [102.56, 97.7, 99.14, 100.03999999999999]\n"
     ]
    }
   ],
   "source": [
    "\"\"\"\n",
    "9. write a python program that uses 'map()' to covnvert a list of temperatures from celsius to Fahrenheit\n",
    "\"\"\"\n",
    "temp = list(input(\"Enter temperature in list format :\"))\n",
    "Farhenheit = map(lambda x: (float(9)/5) * x + 32, temp2)\n",
    "print(\" Temp[erature is converted to Farhenheit is :\",list(Farhenheit))\n"
   ]
  },
  {
   "cell_type": "code",
   "execution_count": 67,
   "id": "2e8e57a5-931c-4925-86e7-6c6165fce104",
   "metadata": {},
   "outputs": [
    {
     "name": "stdout",
     "output_type": "stream",
     "text": [
      "\f",
      "\n"
     ]
    }
   ],
   "source": [
    "clear()\n"
   ]
  },
  {
   "cell_type": "code",
   "execution_count": 80,
   "id": "8ba20104-9bdd-4c77-a2ab-130d8f5fa34b",
   "metadata": {},
   "outputs": [],
   "source": [
    "\"\"\"10. create a python program that uses filter() to remove all teh vowels from a given string\n",
    "\"\"\"\n",
    "str=\"This is not acceptable\"\n",
    "vol=(\"a\",\"e\",\"i\",\"o\",\"u\")\n",
    "l=(filter(lambda x: x not in vol , str)) "
   ]
  },
  {
   "cell_type": "code",
   "execution_count": 79,
   "id": "a9868fdf-22f0-4d62-92e7-e64778f91771",
   "metadata": {},
   "outputs": [
    {
     "name": "stdout",
     "output_type": "stream",
     "text": [
      "['T', 'h', 's', ' ', 's', ' ', 'n', 't', ' ', 'c', 'c', 'p', 't', 'b', 'l']\n"
     ]
    }
   ],
   "source": [
    "\n"
   ]
  },
  {
   "cell_type": "code",
   "execution_count": 81,
   "id": "98c3420f-c027-45e3-bc0e-aba843d22b89",
   "metadata": {},
   "outputs": [
    {
     "data": {
      "text/plain": [
       "'\\n11) Imagine an accounting routine used in a book shop. It works on a list with sublists, which look like this:\\n\\nWrite a Python program, which returns a list with 2-tuples. Each tuple consists of the order number and the \\nproduct of the price per item and the quantity. The product should be increased by 10,- € if the value of the \\norder is smaller than 100,00 €.\\n\\nWrite a Python program using lambda and map\\n'"
      ]
     },
     "execution_count": 81,
     "metadata": {},
     "output_type": "execute_result"
    }
   ],
   "source": [
    "\"\"\"\n",
    "11) Imagine an accounting routine used in a book shop. It works on a list with sublists, which look like this:\n",
    "\n",
    "Write a Python program, which returns a list with 2-tuples. Each tuple consists of the order number and the \n",
    "product of the price per item and the quantity. The product should be increased by 10,- € if the value of the \n",
    "order is smaller than 100,00 €.\n",
    "\n",
    "Write a Python program using lambda and map\n",
    "\"\"\"\n"
   ]
  },
  {
   "cell_type": "code",
   "execution_count": 91,
   "id": "2f2d0daa-9f84-4dc3-b7c6-21aaced9acc6",
   "metadata": {},
   "outputs": [
    {
     "ename": "SyntaxError",
     "evalue": "expression cannot contain assignment, perhaps you meant \"==\"? (2345837787.py, line 2)",
     "output_type": "error",
     "traceback": [
      "\u001b[1;36m  Cell \u001b[1;32mIn[91], line 2\u001b[1;36m\u001b[0m\n\u001b[1;33m    lis=list((map(lambda x,y: x=l[1] & y =l[-1],l)))\u001b[0m\n\u001b[1;37m                  ^\u001b[0m\n\u001b[1;31mSyntaxError\u001b[0m\u001b[1;31m:\u001b[0m expression cannot contain assignment, perhaps you meant \"==\"?\n"
     ]
    }
   ],
   "source": [
    "l=[[234,\"book1\",\"author1\",10,40],[123,\"book2\",\"author2\",10,2]]\n",
    "lis=list((map(lambda x,yl)))"
   ]
  },
  {
   "cell_type": "code",
   "execution_count": null,
   "id": "47a74393-668f-4cb5-b803-7eaf602ee316",
   "metadata": {},
   "outputs": [],
   "source": []
  }
 ],
 "metadata": {
  "kernelspec": {
   "display_name": "Python 3 (ipykernel)",
   "language": "python",
   "name": "python3"
  },
  "language_info": {
   "codemirror_mode": {
    "name": "ipython",
    "version": 3
   },
   "file_extension": ".py",
   "mimetype": "text/x-python",
   "name": "python",
   "nbconvert_exporter": "python",
   "pygments_lexer": "ipython3",
   "version": "3.12.6"
  }
 },
 "nbformat": 4,
 "nbformat_minor": 5
}
